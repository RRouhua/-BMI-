{
 "cells": [
  {
   "cell_type": "code",
   "execution_count": 1,
   "id": "d50c0a09",
   "metadata": {},
   "outputs": [
    {
     "name": "stdout",
     "output_type": "stream",
     "text": [
      "please enter your height (cm) : \n",
      "160\n",
      "please enter your weight (kg) : \n",
      "55\n",
      "Your BMI =  21.484374999999996\n"
     ]
    }
   ],
   "source": [
    "print(\"please enter your height (cm) : \")\n",
    "my_height = int(input())\n",
    "print(\"please enter your weight (kg) : \")\n",
    "my_weight = int(input())\n",
    "\n",
    "bmi = my_weight / (my_height /100) ** 2\n",
    "print (\"Your BMI = \", bmi)"
   ]
  },
  {
   "cell_type": "code",
   "execution_count": null,
   "id": "99bc1469",
   "metadata": {},
   "outputs": [],
   "source": []
  }
 ],
 "metadata": {
  "kernelspec": {
   "display_name": "Python 3 (ipykernel)",
   "language": "python",
   "name": "python3"
  },
  "language_info": {
   "codemirror_mode": {
    "name": "ipython",
    "version": 3
   },
   "file_extension": ".py",
   "mimetype": "text/x-python",
   "name": "python",
   "nbconvert_exporter": "python",
   "pygments_lexer": "ipython3",
   "version": "3.11.7"
  }
 },
 "nbformat": 4,
 "nbformat_minor": 5
}
